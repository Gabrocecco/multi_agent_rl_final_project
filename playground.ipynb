{
 "cells": [
  {
   "cell_type": "code",
   "execution_count": null,
   "id": "8a5460b1-8422-43f7-b77b-464addde002c",
   "metadata": {},
   "outputs": [],
   "source": [
    "# Cell 1 – Imports and setup\n",
    "import numpy as np\n",
    "import matplotlib.pyplot as plt\n",
    "from env.generalized_env import GeneralizedOvercooked  # Your multi-layout wrapper\n",
    "from models.ppo import PPOAgent  # Your custom PPO class\n",
    "\n",
    "# Use inline plotting\n",
    "%matplotlib inline"
   ]
  },
  {
   "cell_type": "code",
   "execution_count": null,
   "id": "43d9717c-3782-4607-9591-d9c99c560000",
   "metadata": {},
   "outputs": [],
   "source": [
    "# Cell 2 – Initialize environment and agent\n",
    "\n",
    "# Define training layouts\n",
    "layouts = ['cramped_room', 'counter_circuit_o', 'coordination_ring']\n",
    "env = GeneralizedOvercooked(layouts)\n",
    "\n",
    "# Get dimensions\n",
    "obs_dim = env.observation_space.shape[0]\n",
    "act_dim = env.action_space.n\n",
    "\n",
    "# Initialize shared PPO agent for both players\n",
    "agent = PPOAgent(obs_dim=obs_dim, act_dim=act_dim)\n"
   ]
  },
  {
   "cell_type": "code",
   "execution_count": null,
   "id": "0f76e621-f280-4bb8-9b96-7cd145eff080",
   "metadata": {},
   "outputs": [],
   "source": [
    "# Cell 3 – Run one evaluation episode (no training)\n",
    "\n",
    "obs = env.reset()\n",
    "done = False\n",
    "episode_reward = 0\n",
    "frames = []\n",
    "\n",
    "while not done:\n",
    "    # Split the joint observation into two agent views\n",
    "    obs_0 = obs[:obs_dim // 2]\n",
    "    obs_1 = obs[obs_dim // 2:]\n",
    "\n",
    "    # Both agents share the same policy for now\n",
    "    act_0, _ = agent.select_action(obs_0)\n",
    "    act_1, _ = agent.select_action(obs_1)\n",
    "\n",
    "    # Step in environment\n",
    "    obs, reward, done, info = env.step([act_0, act_1])\n",
    "    episode_reward += reward\n",
    "\n",
    "    # Render RGB frame\n",
    "    frame = env.cur_env.render()\n",
    "    frames.append(frame)\n",
    "\n",
    "print(f\"Episode finished. Total reward: {episode_reward}\")\n"
   ]
  },
  {
   "cell_type": "code",
   "execution_count": null,
   "id": "8b953d1e-60de-4a76-8341-57d2031b0d88",
   "metadata": {},
   "outputs": [],
   "source": [
    "# Cell 4 – Display last frame (optional)\n",
    "\n",
    "from PIL import Image\n",
    "from IPython.display import display\n",
    "\n",
    "# Show the last frame of the episode\n",
    "display(Image.fromarray(frames[-1]))\n"
   ]
  },
  {
   "cell_type": "code",
   "execution_count": null,
   "id": "570b4a37-5b20-4a09-a3de-eccfd1b58690",
   "metadata": {},
   "outputs": [],
   "source": [
    "# Cell 5 – Animate episode (optional)\n",
    "\n",
    "from IPython.display import HTML\n",
    "from matplotlib import animation\n",
    "\n",
    "fig = plt.figure(figsize=(5, 5))\n",
    "plt.axis('off')\n",
    "im = plt.imshow(frames[0])\n",
    "\n",
    "def animate(i):\n",
    "    im.set_array(frames[i])\n",
    "    return [im]\n",
    "\n",
    "anim = animation.FuncAnimation(fig, animate, frames=len(frames), interval=100)\n",
    "HTML(anim.to_jshtml())\n"
   ]
  },
  {
   "cell_type": "code",
   "execution_count": null,
   "id": "c78e6776-07e0-4c59-9ca3-755bd52ebdd4",
   "metadata": {},
   "outputs": [],
   "source": [
    "anim.save(\"episode.gif\", writer=\"pillow\", fps=10)\n"
   ]
  }
 ],
 "metadata": {
  "kernelspec": {
   "display_name": "Python 3 (ipykernel)",
   "language": "python",
   "name": "python3"
  },
  "language_info": {
   "codemirror_mode": {
    "name": "ipython",
    "version": 3
   },
   "file_extension": ".py",
   "mimetype": "text/x-python",
   "name": "python",
   "nbconvert_exporter": "python",
   "pygments_lexer": "ipython3",
   "version": "3.10.16"
  }
 },
 "nbformat": 4,
 "nbformat_minor": 5
}
